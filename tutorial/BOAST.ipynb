{
 "cells": [
  {
   "cell_type": "markdown",
   "metadata": {},
   "source": [
    "# BOAST Interactive Tutorial\n",
    "## Symmetric Result DGEMM\n",
    "Based on the work of Eric Bainville"
   ]
  },
  {
   "cell_type": "code",
   "execution_count": null,
   "metadata": {},
   "outputs": [],
   "source": [
    "require 'BOAST'\n",
    "include BOAST"
   ]
  },
  {
   "cell_type": "code",
   "execution_count": null,
   "metadata": {},
   "outputs": [],
   "source": [
    "set_lang(C)\n",
    "set_array_start(0)"
   ]
  },
  {
   "cell_type": "code",
   "execution_count": null,
   "metadata": {},
   "outputs": [],
   "source": [
    "def inner_kernel(opts={})\n",
    "  default = {vector_length: 2, tile_size_x: 4, tile_size_y:2, unroll: 4}\n",
    "  opts = default.merge(opts)\n",
    "  vl = opts[:vector_length]\n",
    "  tsx = opts[:tile_size_x]\n",
    "  tsy = opts[:tile_size_y]\n",
    "  unroll = opts[:unroll]\n",
    "  \n",
    "  a_inner = Real :a_inner, vector_length: vl, dim: [Dim(tsy)], dir: :in\n",
    "  b_inner = Real :b_inner, vector_length: vl, dim: [Dim(tsx)], dir: :in\n",
    "  res_inner = tsx.times.collect { |k|\n",
    "    tsy.times.collect { |l|\n",
    "      Real :\"res_inner_#{k}_#{l}\", vector_length: vl, dir: :in_out\n",
    "    }\n",
    "  }\n",
    "\n",
    "  p_inn = Procedure( :\"inner_block_#{vl}_#{tsx}_#{tsy}\", [a_inner, b_inner] + res_inner.flatten, local: true, inline: true  ) {\n",
    "    tmp_a = tsy.times.collect { |l|\n",
    "      Real :\"tmpa_#{l}\", vector_length: vl\n",
    "    }\n",
    "    tmp_b = tsx.times.collect { |l|\n",
    "      Real :\"tmpb_#{l}\", vector_length: vl\n",
    "    }\n",
    "    decl *tmp_a\n",
    "    decl *tmp_b\n",
    "    loaded = {}\n",
    "    tsy.times { |i|\n",
    "      pr tmp_a[i] === a_inner[i]\n",
    "      tsx.times { |j|\n",
    "        unless loaded[j]\n",
    "          pr tmp_b[j] === b_inner[j]\n",
    "          loaded[j] = true\n",
    "        end\n",
    "        pr res_inner[j][i] = res_inner[j][i] + tmp_a[i] * tmp_b[j]\n",
    "      }\n",
    "    }\n",
    "  }\n",
    "  \n",
    "  nvec = Int :n, dir: :in\n",
    "  a = Real :a, vector_length: vl, dim: [Dim(tsy), Dim(nvec)], dir: :in\n",
    "  b = Real :b, vector_length: vl, dim: [Dim(tsx), Dim(nvec)], dir: :in\n",
    "  c = Real :c, dim: [Dim(tsx), Dim(tsy)], dir: :in_out\n",
    "\n",
    "  p = Procedure( :\"inner_#{vl}_#{tsx}_#{tsy}_#{unroll}\", [nvec, a, b, c]) {\n",
    "    tmp_res = tsx.times.collect { |k|\n",
    "      tsy.times.collect { |l|\n",
    "        Real :\"tmpres_#{k}_#{l}\", vector_length: vl\n",
    "      }\n",
    "    }\n",
    "    i = Int :i\n",
    "    decl *tmp_res.flatten    \n",
    "    decl i\n",
    "    tmp_res.flatten.each { |tmp|\n",
    "      pr tmp.set 0.0\n",
    "    }\n",
    "    pr For(i, 0, nvec, step: unroll) {\n",
    "      unroll.times { |j|\n",
    "        pr p_inn.call(a[0, i+j].address, b[0, i+j].address, *tmp_res.flatten)\n",
    "      }\n",
    "    }\n",
    "    tsy.times { |k|\n",
    "      tsx.times { |j|\n",
    "        pr c[j,k] === vl.times.collect { |l| tmp_res[j][k][l] }.reduce(:+)\n",
    "      }\n",
    "    }\n",
    "  }\n",
    "  \n",
    "  k = CKernel::new(:includes => \"immintrin.h\") {\n",
    "    pr p_inn\n",
    "    pr p\n",
    "  }\n",
    "  k.procedure = p\n",
    "  k\n",
    "end"
   ]
  },
  {
   "cell_type": "code",
   "execution_count": null,
   "metadata": {},
   "outputs": [],
   "source": [
    "k = inner_kernel"
   ]
  },
  {
   "cell_type": "code",
   "execution_count": null,
   "metadata": {},
   "outputs": [],
   "source": [
    "#set_verbose(true)\n",
    "#set_debug_source(true)\n",
    "k.build"
   ]
  },
  {
   "cell_type": "code",
   "execution_count": null,
   "metadata": {},
   "outputs": [],
   "source": []
  },
  {
   "cell_type": "code",
   "execution_count": null,
   "metadata": {},
   "outputs": [],
   "source": []
  }
 ],
 "metadata": {
  "kernelspec": {
   "display_name": "Ruby 2.5.1",
   "language": "ruby",
   "name": "ruby"
  },
  "language_info": {
   "file_extension": ".rb",
   "mimetype": "application/x-ruby",
   "name": "ruby",
   "version": "2.5.1"
  }
 },
 "nbformat": 4,
 "nbformat_minor": 2
}
