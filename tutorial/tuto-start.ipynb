{
 "cells": [
  {
   "cell_type": "code",
   "execution_count": null,
   "metadata": {},
   "outputs": [],
   "source": [
    "require 'BOAST'"
   ]
  },
  {
   "cell_type": "code",
   "execution_count": null,
   "metadata": {},
   "outputs": [],
   "source": [
    "a = BOAST::Int \"a\""
   ]
  },
  {
   "cell_type": "code",
   "execution_count": null,
   "metadata": {},
   "outputs": [],
   "source": [
    "b = BOAST::Int \"b\""
   ]
  },
  {
   "cell_type": "code",
   "execution_count": null,
   "metadata": {},
   "outputs": [],
   "source": [
    "BOAST::decl a, b"
   ]
  },
  {
   "cell_type": "code",
   "execution_count": null,
   "metadata": {},
   "outputs": [],
   "source": [
    "p = BOAST::Procedure(\"test_proc\", [a , b ] )"
   ]
  },
  {
   "cell_type": "code",
   "execution_count": null,
   "metadata": {},
   "outputs": [],
   "source": [
    "BOAST::opn p"
   ]
  },
  {
   "cell_type": "code",
   "execution_count": null,
   "metadata": {},
   "outputs": [],
   "source": [
    "BOAST::close p"
   ]
  },
  {
   "cell_type": "code",
   "execution_count": null,
   "metadata": {},
   "outputs": [],
   "source": [
    "BOAST::lang = BOAST::C"
   ]
  },
  {
   "cell_type": "code",
   "execution_count": null,
   "metadata": {},
   "outputs": [],
   "source": [
    "BOAST::opn p"
   ]
  },
  {
   "cell_type": "code",
   "execution_count": null,
   "metadata": {},
   "outputs": [],
   "source": [
    "BOAST::close p"
   ]
  },
  {
   "cell_type": "code",
   "execution_count": null,
   "metadata": {},
   "outputs": [],
   "source": [
    "a = BOAST::Real(\"a\",:dir => :in)"
   ]
  },
  {
   "cell_type": "code",
   "execution_count": null,
   "metadata": {},
   "outputs": [],
   "source": [
    "b = BOAST::Real(\"b\",:dir => :out)"
   ]
  },
  {
   "cell_type": "code",
   "execution_count": null,
   "metadata": {},
   "outputs": [],
   "source": [
    "p = BOAST::Procedure(\"test_proc\", [a , b ] ) {\n",
    "  BOAST::pr b === a + 2\n",
    "  }"
   ]
  },
  {
   "cell_type": "code",
   "execution_count": null,
   "metadata": {},
   "outputs": [],
   "source": [
    "BOAST::lang = BOAST::FORTRAN"
   ]
  },
  {
   "cell_type": "code",
   "execution_count": null,
   "metadata": {},
   "outputs": [],
   "source": [
    "BOAST::pr p"
   ]
  },
  {
   "cell_type": "code",
   "execution_count": null,
   "metadata": {},
   "outputs": [],
   "source": [
    "include BOAST"
   ]
  },
  {
   "cell_type": "code",
   "execution_count": null,
   "metadata": {},
   "outputs": [],
   "source": [
    "n = Int(\"n\" , :dir => :in)\n",
    "a = Real(\"a\", :dir => :in, :dim => [Dim(n)])\n",
    "b = Real(\"b\", :dir => :out, :dim => [Dim(n)])\n",
    "p = Procedure(\"test_proc\", [n, a, b]) {\n",
    "  decl i = Int(\"i\")\n",
    "  pr For(i, 1, n) {\n",
    "    pr b[i] === a[i] + 2\n",
    "  }\n",
    "}"
   ]
  },
  {
   "cell_type": "code",
   "execution_count": null,
   "metadata": {},
   "outputs": [],
   "source": [
    "k = p.ckernel"
   ]
  },
  {
   "cell_type": "code",
   "execution_count": null,
   "metadata": {},
   "outputs": [],
   "source": [
    "k.build"
   ]
  },
  {
   "cell_type": "code",
   "execution_count": null,
   "metadata": {},
   "outputs": [],
   "source": [
    "set_verbose(true)"
   ]
  },
  {
   "cell_type": "code",
   "execution_count": null,
   "metadata": {},
   "outputs": [],
   "source": [
    "k.build"
   ]
  },
  {
   "cell_type": "code",
   "execution_count": null,
   "metadata": {},
   "outputs": [],
   "source": [
    "input = NArray.float(1024).random\n",
    "output = NArray.float(1024)\n",
    "k.run(input.length, input, output)\n",
    "(output - input ).each { |val|\n",
    "  raise \"Error !\" if (val -2).abs > 1e-15\n",
    "}\n",
    "stats = k.run(input.length, input, output)\n",
    "puts \" #{ stats[:duration]} s\""
   ]
  },
  {
   "cell_type": "code",
   "execution_count": null,
   "metadata": {},
   "outputs": [],
   "source": [
    "def vector_add\n",
    "  kernel = CKernel::new\n",
    "  function_name = \"vector_add\"\n",
    "  n = Int(\"n\", {:dir => :in, :signed => false})\n",
    "  a = Real(\"a\", {:dir => :in, :dim => [Dim(0, n -1)]})\n",
    "  b = Real(\"b\", {:dir => :in , :dim => [Dim(0 ,n -1)] })\n",
    "  c = Real(\"c\" ,{:dir => :out, :dim => [Dim(0, n -1)]})\n",
    "  i = Int(\"i\", {:signed => false})\n",
    "  pr p = Procedure(function_name, [n, a , b, c]) {\n",
    "    decl i\n",
    "    if [CL, CUDA].include?(get_lang) then\n",
    "      pr i === get_global_id(0)\n",
    "      pr c[i] === a[i] + b[i]\n",
    "    else\n",
    "      pr For(i ,0 ,n -1) {\n",
    "      pr c[i] === a[i] + b[i]\n",
    "    }\n",
    "    end\n",
    "  }\n",
    "  kernel.procedure = p\n",
    "  return kernel\n",
    "end"
   ]
  },
  {
   "cell_type": "code",
   "execution_count": null,
   "metadata": {},
   "outputs": [],
   "source": [
    "n = 1024*1024\n",
    "a = NArray.float( n ).random!\n",
    "b = NArray.float( n ).random!\n",
    "c = NArray.float( n )\n",
    "epsilon = 10e-15\n",
    "c_ref = a + b\n",
    "nil"
   ]
  },
  {
   "cell_type": "code",
   "execution_count": null,
   "metadata": {},
   "outputs": [],
   "source": [
    "[:FORTRAN, :C, :CL].each {|l|\n",
    "  set_lang(BOAST.const_get(l))\n",
    "  puts \"#{l}:\"\n",
    "  k = vector_add\n",
    "  puts k.print\n",
    "  c.random!\n",
    "  k.run(n, a, b, c, :global_work_size => [n ,1 ,1], :local_work_size => [32 ,1 ,1])\n",
    "  diff = (c_ref - c).abs\n",
    "  diff.each {|elem|\n",
    "    raise \"Warning: residue too big: #{elem}\" if elem > epsilon\n",
    "  }\n",
    "}\n",
    "puts \"Success !\""
   ]
  },
  {
   "cell_type": "code",
   "execution_count": null,
   "metadata": {},
   "outputs": [],
   "source": []
  }
 ],
 "metadata": {
  "kernelspec": {
   "display_name": "Ruby 2.5.1",
   "language": "ruby",
   "name": "ruby"
  },
  "language_info": {
   "file_extension": ".rb",
   "mimetype": "application/x-ruby",
   "name": "ruby",
   "version": "2.5.1"
  }
 },
 "nbformat": 4,
 "nbformat_minor": 2
}
