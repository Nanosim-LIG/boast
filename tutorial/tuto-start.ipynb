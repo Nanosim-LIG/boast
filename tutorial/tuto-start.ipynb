{
 "cells": [
  {
   "cell_type": "markdown",
   "metadata": {},
   "source": [
    "# BOAST Introduction Tutorial\n",
    "\n",
    "Documentation can be found here: [online documentation](http://www.rubydoc.info/github/Nanosim-LIG/boast/master)."
   ]
  },
  {
   "cell_type": "markdown",
   "metadata": {},
   "source": [
    "## Simple Definitions and Declarations\n",
    "BOAST is a ruby library:"
   ]
  },
  {
   "cell_type": "code",
   "execution_count": 1,
   "metadata": {},
   "outputs": [
    {
     "data": {
      "text/plain": [
       "true"
      ]
     },
     "execution_count": 1,
     "metadata": {},
     "output_type": "execute_result"
    }
   ],
   "source": [
    "require 'BOAST'"
   ]
  },
  {
   "cell_type": "markdown",
   "metadata": {},
   "source": [
    "Defining and declaring simple variables, their name can be anything that evaluate to a string. Note that by default BOAST uses the standard output and is using FORTRAN."
   ]
  },
  {
   "cell_type": "code",
   "execution_count": 2,
   "metadata": {},
   "outputs": [
    {
     "name": "stdout",
     "output_type": "stream",
     "text": [
      "integer(kind=4) :: a\n",
      "real(kind=8) :: b\n"
     ]
    },
    {
     "data": {
      "text/plain": [
       "[a, b]"
      ]
     },
     "execution_count": 2,
     "metadata": {},
     "output_type": "execute_result"
    }
   ],
   "source": [
    "a = BOAST::Int \"a\"\n",
    "b = BOAST::Real \"b\"\n",
    "BOAST::decl a, b"
   ]
  },
  {
   "cell_type": "markdown",
   "metadata": {},
   "source": [
    "Defining a procedure construct, opening and closing it:"
   ]
  },
  {
   "cell_type": "code",
   "execution_count": 3,
   "metadata": {},
   "outputs": [
    {
     "name": "stdout",
     "output_type": "stream",
     "text": [
      "SUBROUTINE test_proc(a, b)\n",
      "  integer, parameter :: wp=kind(1.0d0)\n",
      "  integer(kind=4) :: a\n",
      "  real(kind=8) :: b\n",
      "END SUBROUTINE test_proc\n"
     ]
    }
   ],
   "source": [
    "p = BOAST::Procedure(\"test_proc\", [a , b ] )\n",
    "BOAST::opn p\n",
    "BOAST::close p\n",
    "nil;"
   ]
  },
  {
   "cell_type": "markdown",
   "metadata": {},
   "source": [
    "Changing the language used by BOAST:"
   ]
  },
  {
   "cell_type": "code",
   "execution_count": 4,
   "metadata": {},
   "outputs": [
    {
     "name": "stdout",
     "output_type": "stream",
     "text": [
      "void test_proc(int32_t a, double b){\n",
      "}\n"
     ]
    }
   ],
   "source": [
    "BOAST::lang = BOAST::C\n",
    "BOAST::opn p\n",
    "BOAST::close p\n",
    "nil;"
   ]
  },
  {
   "cell_type": "markdown",
   "metadata": {},
   "source": [
    "BOAST procedure parameters should be input, output or input-output parameters."
   ]
  },
  {
   "cell_type": "code",
   "execution_count": 5,
   "metadata": {},
   "outputs": [
    {
     "name": "stdout",
     "output_type": "stream",
     "text": [
      "SUBROUTINE test_proc(a, b)\n",
      "  integer, parameter :: wp=kind(1.0d0)\n",
      "  real(kind=8), intent(in) :: a\n",
      "  real(kind=8), intent(out) :: b\n",
      "  b = a + 2\n",
      "END SUBROUTINE test_proc\n"
     ]
    }
   ],
   "source": [
    "a = BOAST::Real(\"a\",:dir => :in)\n",
    "b = BOAST::Real(\"b\",:dir => :out)\n",
    "p = BOAST::Procedure(\"test_proc\", [a , b ] ) {\n",
    "  BOAST::pr b === a + 2\n",
    "}\n",
    "BOAST::lang = BOAST::FORTRAN\n",
    "BOAST::pr p\n",
    "nil;"
   ]
  },
  {
   "cell_type": "markdown",
   "metadata": {},
   "source": [
    "## Creating and Calling a kernel"
   ]
  },
  {
   "cell_type": "markdown",
   "metadata": {},
   "source": [
    "Writing ```BOAST::``` all the time is tedious so let's import BOAST's namespace inside the global namespace:"
   ]
  },
  {
   "cell_type": "code",
   "execution_count": 6,
   "metadata": {},
   "outputs": [
    {
     "data": {
      "text/plain": [
       "Object"
      ]
     },
     "execution_count": 6,
     "metadata": {},
     "output_type": "execute_result"
    }
   ],
   "source": [
    "include BOAST"
   ]
  },
  {
   "cell_type": "markdown",
   "metadata": {},
   "source": [
    "### Creating a Kernel\n",
    "Defining a procedure that take arrays as parameters. Notice that akin to FORTRAN, by default arrays start at index 1."
   ]
  },
  {
   "cell_type": "code",
   "execution_count": 7,
   "metadata": {},
   "outputs": [
    {
     "data": {
      "text/plain": [
       "SUBROUTINE vector_increment(n, a, b)"
      ]
     },
     "execution_count": 7,
     "metadata": {},
     "output_type": "execute_result"
    }
   ],
   "source": [
    "n = Int(\"n\" , :dir => :in)\n",
    "a = Real(\"a\", :dir => :in, :dim => [Dim(n)])\n",
    "b = Real(\"b\", :dir => :out, :dim => [Dim(n)])\n",
    "p = Procedure(\"vector_increment\", [n, a, b]) {\n",
    "  decl i = Int(\"i\")\n",
    "  pr For(i, 1, n) {\n",
    "    pr b[i] === a[i] + 2\n",
    "  }\n",
    "}"
   ]
  },
  {
   "cell_type": "markdown",
   "metadata": {},
   "source": [
    "Creating a computing kernel from a procedure is straight forward if you have only one procedure:"
   ]
  },
  {
   "cell_type": "code",
   "execution_count": 8,
   "metadata": {},
   "outputs": [],
   "source": [
    "k = p.ckernel\n",
    "nil"
   ]
  },
  {
   "cell_type": "markdown",
   "metadata": {},
   "source": [
    "### Building and Calling a Kernel\n",
    "Building the kernel using BOAST's default compilation flags:"
   ]
  },
  {
   "cell_type": "code",
   "execution_count": 9,
   "metadata": {},
   "outputs": [],
   "source": [
    "k.build\n",
    "nil"
   ]
  },
  {
   "cell_type": "markdown",
   "metadata": {},
   "source": [
    "If one wants to know what BOAST did it needs to be put in verbose mode. Notice the three compilation phases:"
   ]
  },
  {
   "cell_type": "code",
   "execution_count": 10,
   "metadata": {},
   "outputs": [
    {
     "name": "stdout",
     "output_type": "stream",
     "text": [
      "gcc -O2 -Wall  -fPIC -I/usr/lib/x86_64-linux-gnu/ruby/2.5.0 -I/usr/include/ruby-2.5.0 -I/usr/include/ruby-2.5.0/x86_64-linux-gnu -I/usr/include/x86_64-linux-gnu/ruby-2.5.0 -I/var/lib/gems/2.5.0/extensions/x86_64-linux/2.5.0/narray-0.6.1.2 -march=native -DHAVE_NARRAY_H -c -o /tmp/Mod_vector_increment20180705_13190_16hmbg.o /tmp/Mod_vector_increment20180705_13190_16hmbg.c\n",
      "gfortran -O2 -Wall -fPIC -march=native -c -o /tmp/vector_increment20180705_13190_16hmbg.o /tmp/vector_increment20180705_13190_16hmbg.f90\n",
      "gcc -shared -o /tmp/Mod_vector_increment20180705_13190_16hmbg.so /tmp/Mod_vector_increment20180705_13190_16hmbg.o /tmp/vector_increment20180705_13190_16hmbg.o  -Wl,-Bsymbolic-functions -Wl,-z,relro -rdynamic -Wl,-export-dynamic  -L/usr/lib -march=native -lruby-2.5 -lrt\n"
     ]
    }
   ],
   "source": [
    "set_verbose(true)\n",
    "k.build\n",
    "nil"
   ]
  },
  {
   "cell_type": "markdown",
   "metadata": {},
   "source": [
    "In order to call threads we need to have memory areas for input and output parameters. For this we use the NArray library (C arrays wrapped in ruby)."
   ]
  },
  {
   "cell_type": "code",
   "execution_count": 11,
   "metadata": {},
   "outputs": [],
   "source": [
    "input = NArray.float(1024).random\n",
    "output = NArray.float(1024)\n",
    "nil"
   ]
  },
  {
   "cell_type": "markdown",
   "metadata": {},
   "source": [
    "Running and checking result:"
   ]
  },
  {
   "cell_type": "code",
   "execution_count": 12,
   "metadata": {},
   "outputs": [],
   "source": [
    "k.run(input.length, input, output)\n",
    "raise \"Error !\" if (output - input - 2).abs.max > 1e-15"
   ]
  },
  {
   "cell_type": "markdown",
   "metadata": {},
   "source": [
    "Taking a performancce measurement:"
   ]
  },
  {
   "cell_type": "code",
   "execution_count": 13,
   "metadata": {},
   "outputs": [
    {
     "name": "stdout",
     "output_type": "stream",
     "text": [
      " 5.082000000000001e-06 s\n"
     ]
    }
   ],
   "source": [
    "stats = k.run(input.length, input, output)\n",
    "puts \" #{ stats[:duration]} s\""
   ]
  },
  {
   "cell_type": "markdown",
   "metadata": {},
   "source": [
    "## Metaprograming Example\n",
    "This kernel is really different between OpenCL and C/FORTRAN. So we encapsulate it in a function that will return a different kernel when we change language."
   ]
  },
  {
   "cell_type": "code",
   "execution_count": 19,
   "metadata": {},
   "outputs": [
    {
     "data": {
      "text/plain": [
       ":vector_add"
      ]
     },
     "execution_count": 19,
     "metadata": {},
     "output_type": "execute_result"
    }
   ],
   "source": [
    "set_verbose(false)\n",
    "set_array_start(0)\n",
    "def vector_add\n",
    "  n = Int(\"n\", :dir => :in, :signed => false)\n",
    "  a = Real(\"a\", :dir => :in, :dim => [Dim(n)])\n",
    "  b = Real(\"b\", :dir => :in, :dim => [Dim(n)])\n",
    "  c = Real(\"c\", :dir => :out, :dim => [Dim(n)])\n",
    "  i = Int(\"i\")\n",
    "  pr p = Procedure(\"vector_add\", [n, a, b, c]) {\n",
    "    decl i\n",
    "    if [CL, CUDA].include?(get_lang) then\n",
    "      pr i === get_global_id(0)\n",
    "      pr c[i] === a[i] + b[i]\n",
    "    else\n",
    "      pr For(i, 0, n - 1) {\n",
    "        pr c[i] === a[i] + b[i]\n",
    "      }\n",
    "    end\n",
    "  }\n",
    "  return p.ckernel\n",
    "end"
   ]
  },
  {
   "cell_type": "code",
   "execution_count": 20,
   "metadata": {},
   "outputs": [],
   "source": [
    "n = 1024*1024\n",
    "a = NArray.float( n ).random!\n",
    "b = NArray.float( n ).random!\n",
    "c = NArray.float( n )\n",
    "epsilon = 10e-15\n",
    "c_ref = a + b\n",
    "nil"
   ]
  },
  {
   "cell_type": "code",
   "execution_count": 21,
   "metadata": {},
   "outputs": [
    {
     "name": "stdout",
     "output_type": "stream",
     "text": [
      "FORTRAN:\n",
      "SUBROUTINE vector_add(n, a, b, c)\n",
      "  integer, parameter :: wp=kind(1.0d0)\n",
      "  integer(kind=4), intent(in) :: n\n",
      "  real(kind=8), intent(in), dimension(0:n - (1)) :: a\n",
      "  real(kind=8), intent(in), dimension(0:n - (1)) :: b\n",
      "  real(kind=8), intent(out), dimension(0:n - (1)) :: c\n",
      "  integer(kind=4) :: i\n",
      "  do i = 0, n - (1), 1\n",
      "    c(i) = a(i) + b(i)\n",
      "  end do\n",
      "END SUBROUTINE vector_add\n",
      "\n",
      "\n",
      "C:\n",
      "void vector_add(const uint32_t n, const double * a, const double * b, double * c){\n",
      "  int32_t i;\n",
      "  for (i = 0; i <= n - (1); i += 1) {\n",
      "    c[i] = a[i] + b[i];\n",
      "  }\n",
      "}\n",
      "\n",
      "\n",
      "CL:\n",
      "__kernel void vector_add(const uint n, const __global double * a, const __global double * b, __global double * c){\n",
      "  int i;\n",
      "  i = get_global_id(0);\n",
      "  c[i] = a[i] + b[i];\n",
      "}\n",
      "\n",
      "\n",
      "Success !\n"
     ]
    }
   ],
   "source": [
    "[:FORTRAN, :C, :CL].each {|l|\n",
    "  puts \"#{l}:\"\n",
    "  push_env( :lang => BOAST.const_get(l) ) {\n",
    "    k = vector_add\n",
    "    puts k.print\n",
    "    c.random!\n",
    "    k.run(n, a, b, c, :global_work_size => [n ,1 ,1], :local_work_size => [32 ,1 ,1])\n",
    "    diff = (c_ref - c).abs\n",
    "    diff.each {|elem|\n",
    "      raise \"Warning: residue too big: #{elem}\" if elem > epsilon\n",
    "    }\n",
    "  }\n",
    "}\n",
    "puts \"Success !\""
   ]
  },
  {
   "cell_type": "code",
   "execution_count": null,
   "metadata": {},
   "outputs": [],
   "source": []
  }
 ],
 "metadata": {
  "kernelspec": {
   "display_name": "Ruby 2.5.1",
   "language": "ruby",
   "name": "ruby"
  },
  "language_info": {
   "file_extension": ".rb",
   "mimetype": "application/x-ruby",
   "name": "ruby",
   "version": "2.5.1"
  }
 },
 "nbformat": 4,
 "nbformat_minor": 2
}
