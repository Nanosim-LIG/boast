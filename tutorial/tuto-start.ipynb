{
 "cells": [
  {
   "cell_type": "markdown",
   "metadata": {},
   "source": [
    "# BOAST Introduction Tutorial\n",
    "\n",
    "Documentation can be found here: [online documentation](http://www.rubydoc.info/github/Nanosim-LIG/boast/master)."
   ]
  },
  {
   "cell_type": "markdown",
   "metadata": {},
   "source": [
    "## Simple Definitions and Declarations\n",
    "BOAST is a ruby library:"
   ]
  },
  {
   "cell_type": "code",
   "execution_count": null,
   "metadata": {},
   "outputs": [],
   "source": [
    "require 'BOAST'"
   ]
  },
  {
   "cell_type": "markdown",
   "metadata": {},
   "source": [
    "Defining and declaring simple variables, their name can be anything that evaluate to a string. Note that by default BOAST uses the standard output and is using FORTRAN."
   ]
  },
  {
   "cell_type": "code",
   "execution_count": null,
   "metadata": {},
   "outputs": [],
   "source": [
    "a = BOAST::Int \"a\"\n",
    "b = BOAST::Real \"b\"\n",
    "BOAST::decl a, b"
   ]
  },
  {
   "cell_type": "markdown",
   "metadata": {},
   "source": [
    "Defining a procedure construct, opening and closing it:"
   ]
  },
  {
   "cell_type": "code",
   "execution_count": null,
   "metadata": {},
   "outputs": [],
   "source": [
    "p = BOAST::Procedure(\"test_proc\", [a , b ] )\n",
    "BOAST::opn p\n",
    "BOAST::close p\n",
    "nil;"
   ]
  },
  {
   "cell_type": "markdown",
   "metadata": {},
   "source": [
    "Changing the language used by BOAST:"
   ]
  },
  {
   "cell_type": "code",
   "execution_count": null,
   "metadata": {},
   "outputs": [],
   "source": [
    "BOAST::lang = BOAST::C\n",
    "BOAST::opn p\n",
    "BOAST::close p\n",
    "nil;"
   ]
  },
  {
   "cell_type": "markdown",
   "metadata": {},
   "source": [
    "BOAST procedure parameters should be input, output or input-output parameters."
   ]
  },
  {
   "cell_type": "code",
   "execution_count": null,
   "metadata": {},
   "outputs": [],
   "source": [
    "a = BOAST::Real(\"a\",:dir => :in)\n",
    "b = BOAST::Real(\"b\",:dir => :out)\n",
    "p = BOAST::Procedure(\"test_proc\", [a , b ] ) {\n",
    "  BOAST::pr b === a + 2\n",
    "}\n",
    "BOAST::lang = BOAST::FORTRAN\n",
    "BOAST::pr p\n",
    "nil;"
   ]
  },
  {
   "cell_type": "markdown",
   "metadata": {},
   "source": [
    "## Creating and Calling a kernel"
   ]
  },
  {
   "cell_type": "markdown",
   "metadata": {},
   "source": [
    "Writing ```BOAST::``` all the time is tedious so let's import BOAST's namespace inside the global namespace:"
   ]
  },
  {
   "cell_type": "code",
   "execution_count": null,
   "metadata": {},
   "outputs": [],
   "source": [
    "include BOAST"
   ]
  },
  {
   "cell_type": "markdown",
   "metadata": {},
   "source": [
    "### Creating a Kernel\n",
    "Defining a procedure that take arrays as parameters. Notice that akin to FORTRAN, by default arrays start at index 1."
   ]
  },
  {
   "cell_type": "code",
   "execution_count": null,
   "metadata": {},
   "outputs": [],
   "source": [
    "n = Int(\"n\" , :dir => :in)\n",
    "a = Real(\"a\", :dir => :in, :dim => [Dim(n)])\n",
    "b = Real(\"b\", :dir => :out, :dim => [Dim(n)])\n",
    "p = Procedure(\"vector_increment\", [n, a, b]) {\n",
    "  decl i = Int(\"i\")\n",
    "  pr For(i, 1, n) {\n",
    "    pr b[i] === a[i] + 2\n",
    "  }\n",
    "}"
   ]
  },
  {
   "cell_type": "markdown",
   "metadata": {},
   "source": [
    "Creating a computing kernel from a procedure is straight forward if you have only one procedure:"
   ]
  },
  {
   "cell_type": "code",
   "execution_count": null,
   "metadata": {},
   "outputs": [],
   "source": [
    "k = p.ckernel\n",
    "nil"
   ]
  },
  {
   "cell_type": "markdown",
   "metadata": {},
   "source": [
    "### Building and Calling a Kernel\n",
    "Building the kernel using BOAST's default compilation flags:"
   ]
  },
  {
   "cell_type": "code",
   "execution_count": null,
   "metadata": {},
   "outputs": [],
   "source": [
    "k.build\n",
    "nil"
   ]
  },
  {
   "cell_type": "markdown",
   "metadata": {},
   "source": [
    "If one wants to know what BOAST did it needs to be put in verbose mode. Notice the three compilation phases:"
   ]
  },
  {
   "cell_type": "code",
   "execution_count": null,
   "metadata": {},
   "outputs": [],
   "source": [
    "set_verbose(true)\n",
    "k.build\n",
    "nil"
   ]
  },
  {
   "cell_type": "markdown",
   "metadata": {},
   "source": [
    "In order to call threads we need to have memory areas for input and output parameters. For this we use the NArray library (C arrays wrapped in ruby)."
   ]
  },
  {
   "cell_type": "code",
   "execution_count": null,
   "metadata": {},
   "outputs": [],
   "source": [
    "input = NArray.float(1024).random\n",
    "output = NArray.float(1024)\n",
    "nil"
   ]
  },
  {
   "cell_type": "markdown",
   "metadata": {},
   "source": [
    "Running and checking result:"
   ]
  },
  {
   "cell_type": "code",
   "execution_count": null,
   "metadata": {},
   "outputs": [],
   "source": [
    "k.run(input.length, input, output)\n",
    "raise \"Error !\" if (output - input - 2).abs.max > 1e-15"
   ]
  },
  {
   "cell_type": "markdown",
   "metadata": {},
   "source": [
    "Taking a performancce measurement:"
   ]
  },
  {
   "cell_type": "code",
   "execution_count": null,
   "metadata": {},
   "outputs": [],
   "source": [
    "stats = k.run(input.length, input, output)\n",
    "puts \" #{ stats[:duration]} s\""
   ]
  },
  {
   "cell_type": "markdown",
   "metadata": {},
   "source": [
    "## Metaprograming Example\n",
    "This kernel is really different between OpenCL and C/FORTRAN. So we encapsulate it in a function that will return a different kernel when we change language."
   ]
  },
  {
   "cell_type": "code",
   "execution_count": null,
   "metadata": {},
   "outputs": [],
   "source": [
    "set_verbose(false)\n",
    "set_array_start(0)\n",
    "def vector_add\n",
    "  n = Int(\"n\", :dir => :in)\n",
    "  a = Real(\"a\", :dir => :in, :dim => [Dim(n)])\n",
    "  b = Real(\"b\", :dir => :in, :dim => [Dim(n)])\n",
    "  c = Real(\"c\", :dir => :out, :dim => [Dim(n)])\n",
    "  i = Int(\"i\")\n",
    "  p = Procedure(\"vector_add\", [n, a, b, c]) {\n",
    "    decl i\n",
    "    if [CL, CUDA].include?(get_lang) then\n",
    "      pr i === get_global_id(0)\n",
    "      pr c[i] === a[i] + b[i]\n",
    "    else\n",
    "      pr For(i, 0, n - 1) {\n",
    "        pr c[i] === a[i] + b[i]\n",
    "      }\n",
    "    end\n",
    "  }\n",
    "  return p.ckernel\n",
    "end"
   ]
  },
  {
   "cell_type": "code",
   "execution_count": null,
   "metadata": {},
   "outputs": [],
   "source": [
    "n = 1024*1024\n",
    "a = NArray.float( n ).random!\n",
    "b = NArray.float( n ).random!\n",
    "c = NArray.float( n )\n",
    "epsilon = 10e-15\n",
    "c_ref = a + b\n",
    "nil"
   ]
  },
  {
   "cell_type": "code",
   "execution_count": null,
   "metadata": {},
   "outputs": [],
   "source": [
    "[FORTRAN, C, CL].each {|l|\n",
    "  push_env( :lang => l ) {\n",
    "    puts \"#{get_lang_name}:\"\n",
    "    k = vector_add\n",
    "    puts k.print\n",
    "    c.random!\n",
    "    k.run(n, a, b, c, :global_work_size => [n ,1 ,1], :local_work_size => [32 ,1 ,1])\n",
    "    diff = (c_ref - c).abs\n",
    "    diff.each {|elem|\n",
    "      raise \"Warning: residue too big: #{elem}\" if elem > epsilon\n",
    "    }\n",
    "  }\n",
    "}\n",
    "puts \"Success !\""
   ]
  },
  {
   "cell_type": "markdown",
   "metadata": {},
   "source": [
    "### OpenMP Example"
   ]
  },
  {
   "cell_type": "code",
   "execution_count": null,
   "metadata": {},
   "outputs": [],
   "source": [
    "set_verbose(false)\n",
    "set_array_start(0)\n",
    "def vector_add_openmp\n",
    "  raise \"Invalid language #{get_lang_name}\" if lang == CL or lang == CUDA\n",
    "  n = Int(\"n\", :dir => :in)\n",
    "  a = Real(\"a\", :dir => :in, :dim => [Dim(n)])\n",
    "  b = Real(\"b\", :dir => :in, :dim => [Dim(n)])\n",
    "  c = Real(\"c\", :dir => :out, :dim => [Dim(n)])\n",
    "  i = Int(\"i\")\n",
    "  p = Procedure(\"vector_add\", [n, a, b, c]) {\n",
    "    decl i\n",
    "    pr OpenMP::Parallel(:shared => [a,b,c], :private => [i]) {\n",
    "      pr For(i, 0, n - 1, :openmp => true) {\n",
    "        pr c[i] === a[i] + b[i]\n",
    "      }\n",
    "    }\n",
    "  }\n",
    "  return p.ckernel\n",
    "end"
   ]
  },
  {
   "cell_type": "code",
   "execution_count": null,
   "metadata": {},
   "outputs": [],
   "source": [
    "n = 1024*1024\n",
    "a = NArray.float( n ).random!\n",
    "b = NArray.float( n ).random!\n",
    "c = NArray.float( n )\n",
    "epsilon = 10e-15\n",
    "c_ref = a + b\n",
    "nil"
   ]
  },
  {
   "cell_type": "code",
   "execution_count": null,
   "metadata": {
    "scrolled": true
   },
   "outputs": [],
   "source": [
    "[FORTRAN, C].each {|l|\n",
    "  push_env( :lang => l ) {\n",
    "    puts \"#{get_lang_name}:\"\n",
    "    k = vector_add_openmp\n",
    "    puts k.print\n",
    "    c.random!\n",
    "    k.build(:openmp => true)\n",
    "    k.run(n, a, b, c)\n",
    "    diff = (c_ref - c).abs\n",
    "    diff.each {|elem|\n",
    "      raise \"Warning: residue too big: #{elem}\" if elem > epsilon\n",
    "    }\n",
    "  }\n",
    "}\n",
    "puts \"Success !\""
   ]
  },
  {
   "cell_type": "markdown",
   "metadata": {},
   "source": [
    "## SIMD Example"
   ]
  },
  {
   "cell_type": "code",
   "execution_count": null,
   "metadata": {},
   "outputs": [],
   "source": [
    "set_verbose(false)\n",
    "set_array_start(0)\n",
    "def vector_add_simd(vector_length = 4)\n",
    "  raise \"Invalid language #{get_lang_name}\" if lang == CL or lang == CUDA\n",
    "  nvec = Int(\"nvec\", :dir => :in)\n",
    "  a = Real(\"a\", :dir => :in, :vector_length => vector_length, :dim => [Dim(nvec)])\n",
    "  b = Real(\"b\", :dir => :in, :vector_length => vector_length, :dim => [Dim(nvec)])\n",
    "  c = Real(\"c\", :dir => :out, :vector_length => vector_length, :dim => [Dim(nvec)])\n",
    "  i = Int(\"i\")\n",
    "  p = Procedure(\"vector_add\", [nvec, a, b, c]) {\n",
    "    decl i\n",
    "    pr For(i, 0, nvec - 1) {\n",
    "      pr c[i] === a[i] + b[i]\n",
    "    }\n",
    "  }\n",
    "  return p.ckernel(:includes => \"immintrin.h\")\n",
    "end"
   ]
  },
  {
   "cell_type": "markdown",
   "metadata": {},
   "source": [
    "You need aligned arrays for vectorization. ANArray is a NArray with alignment taking into account. The first argument is the alignment."
   ]
  },
  {
   "cell_type": "code",
   "execution_count": null,
   "metadata": {},
   "outputs": [],
   "source": [
    "[2,4].each { |vector_length|\n",
    "  nvec = 1024*1024/vector_length\n",
    "  alignment = vector_length * get_default_real_size\n",
    "  a = ANArray.float( alignment, vector_length, nvec ).random!\n",
    "  b = ANArray.float( alignment, vector_length, nvec ).random!\n",
    "  c = ANArray.float( alignment, vector_length, nvec )\n",
    "  epsilon = 10e-15\n",
    "  c_ref = a + b\n",
    "\n",
    "  [FORTRAN, C].each {|l|\n",
    "    push_env( :lang => l ) {\n",
    "      puts \"#{get_lang_name}:\"\n",
    "      k = vector_add_simd(vector_length)\n",
    "      puts k.print\n",
    "      c.random!\n",
    "      k.run(nvec, a, b, c)\n",
    "      diff = (c_ref - c).abs\n",
    "      diff.each {|elem|\n",
    "        raise \"Warning: residue too big: #{elem}\" if elem > epsilon\n",
    "      }\n",
    "    }\n",
    "  }\n",
    "}\n",
    "puts \"Success !\""
   ]
  },
  {
   "cell_type": "code",
   "execution_count": null,
   "metadata": {},
   "outputs": [],
   "source": []
  }
 ],
 "metadata": {
  "kernelspec": {
   "display_name": "Ruby 2.5.1",
   "language": "ruby",
   "name": "ruby"
  },
  "language_info": {
   "file_extension": ".rb",
   "mimetype": "application/x-ruby",
   "name": "ruby",
   "version": "2.5.1"
  }
 },
 "nbformat": 4,
 "nbformat_minor": 2
}
